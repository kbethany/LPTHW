{
 "cells": [
  {
   "cell_type": "code",
   "execution_count": 3,
   "metadata": {
    "collapsed": false
   },
   "outputs": [
    {
     "name": "stdout",
     "output_type": "stream",
     "text": [
      "Let's do some math with just functions!\n"
     ]
    }
   ],
   "source": [
    "def add(a, b):\n",
    "    print \"ADDING %d + %d\" % (a, b)\n",
    "    return a + b\n",
    "\n",
    "def subtract(a,b):\n",
    "    print \"SUBTRACTING %d - %d\" % (a, b)\n",
    "    return a - b\n",
    "\n",
    "def multiply(a, b):\n",
    "    print \"MULTIPLYING %d * %d\" % (a, b)\n",
    "    return a * b\n",
    "\n",
    "def divide(a, b):\n",
    "    print \"DIVIDING %d / %d\" % (a, b)\n",
    "    return a / b\n",
    "\n",
    "print \"Let's do some math with just functions!\""
   ]
  },
  {
   "cell_type": "code",
   "execution_count": 4,
   "metadata": {
    "collapsed": false
   },
   "outputs": [
    {
     "name": "stdout",
     "output_type": "stream",
     "text": [
      "Next up!\n",
      "ADDING 30 + 5\n",
      "SUBTRACTING 78 - 4\n",
      "MULTIPLYING 90 * 2\n",
      "DIVIDING 100 / 2\n"
     ]
    }
   ],
   "source": [
    "print \"Next up!\"\n",
    "age = add(30, 5)\n",
    "height = subtract(78, 4)\n",
    "weight = multiply(90, 2)\n",
    "iq = divide(100, 2)"
   ]
  },
  {
   "cell_type": "code",
   "execution_count": null,
   "metadata": {
    "collapsed": true
   },
   "outputs": [],
   "source": []
  }
 ],
 "metadata": {
  "kernelspec": {
   "display_name": "Python 2",
   "language": "python",
   "name": "python2"
  },
  "language_info": {
   "codemirror_mode": {
    "name": "ipython",
    "version": 2
   },
   "file_extension": ".py",
   "mimetype": "text/x-python",
   "name": "python",
   "nbconvert_exporter": "python",
   "pygments_lexer": "ipython2",
   "version": "2.7.10"
  }
 },
 "nbformat": 4,
 "nbformat_minor": 0
}
