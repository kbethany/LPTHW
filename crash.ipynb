{
 "cells": [
  {
   "cell_type": "code",
   "execution_count": 32,
   "metadata": {
    "collapsed": false
   },
   "outputs": [],
   "source": [
    "%matplotlib inline\n",
    "\n",
    "import pandas as pd\n",
    "import matplotlib.pyplot as plt\n",
    "\n",
    "pd.set_option('display.mpl_style', 'default') # Make the graphs a bit prettier\n",
    "plt.rcParams['figure.figsize'] = (15, 5)\n",
    "plt.rcParams['font.family'] = 'sans-serif'\n",
    "\n",
    "# This is necessary to show lots of columns in pandas 0.12. \n",
    "# Not necessary in pandas 0.13.\n",
    "pd.set_option('display.width', 5000) \n",
    "pd.set_option('display.max_columns', 60)"
   ]
  },
  {
   "cell_type": "markdown",
   "metadata": {},
   "source": [
    "I'm interested in looking at a dataset of Durham, NC bike crashes. When do most crashes happen -- weekdays, or weekends?"
   ]
  },
  {
   "cell_type": "markdown",
   "metadata": {},
   "source": [
    "# 4.1 Adding a 'weekday' column to our dataframe"
   ]
  },
  {
   "cell_type": "markdown",
   "metadata": {},
   "source": [
    "First, we need to load up the data. We've done this before."
   ]
  },
  {
   "cell_type": "code",
   "execution_count": 39,
   "metadata": {
    "collapsed": false,
    "scrolled": false
   },
   "outputs": [
    {
     "data": {
      "text/html": [
       "<div>\n",
       "<table border=\"1\" class=\"dataframe\">\n",
       "  <thead>\n",
       "    <tr style=\"text-align: right;\">\n",
       "      <th></th>\n",
       "      <th>FID</th>\n",
       "      <th>OBJECTID</th>\n",
       "      <th>AmbulanceR</th>\n",
       "      <th>BikeAge_Gr</th>\n",
       "      <th>Bike_Age</th>\n",
       "      <th>Bike_Alc_D</th>\n",
       "      <th>Bike_Dir</th>\n",
       "      <th>Bike_Injur</th>\n",
       "      <th>Bike_Pos</th>\n",
       "      <th>Bike_Race</th>\n",
       "      <th>Bike_Sex</th>\n",
       "      <th>City</th>\n",
       "      <th>County</th>\n",
       "      <th>CrashAlcoh</th>\n",
       "      <th>CrashDay</th>\n",
       "      <th>Crash_Grp</th>\n",
       "      <th>Crash_Hour</th>\n",
       "      <th>Crash_Loc</th>\n",
       "      <th>Crash_Mont</th>\n",
       "      <th>Crash_Time</th>\n",
       "      <th>Crash_Type</th>\n",
       "      <th>Crash_Ty_1</th>\n",
       "      <th>Crash_Year</th>\n",
       "      <th>Crsh_Sevri</th>\n",
       "      <th>Developmen</th>\n",
       "      <th>DrvrAge_Gr</th>\n",
       "      <th>Drvr_Age</th>\n",
       "      <th>Drvr_Alc_D</th>\n",
       "      <th>Drvr_EstSp</th>\n",
       "      <th>Drvr_Injur</th>\n",
       "      <th>Drvr_Race</th>\n",
       "      <th>Drvr_Sex</th>\n",
       "      <th>Drvr_VehTy</th>\n",
       "      <th>ExcsSpdInd</th>\n",
       "      <th>Hit_Run</th>\n",
       "      <th>Light_Cond</th>\n",
       "      <th>Locality</th>\n",
       "      <th>Num_Lanes</th>\n",
       "      <th>Num_Units</th>\n",
       "      <th>Rd_Charact</th>\n",
       "      <th>Rd_Class</th>\n",
       "      <th>Rd_Conditi</th>\n",
       "      <th>Rd_Config</th>\n",
       "      <th>Rd_Defects</th>\n",
       "      <th>Rd_Feature</th>\n",
       "      <th>Rd_Surface</th>\n",
       "      <th>Region</th>\n",
       "      <th>Rural_Urba</th>\n",
       "      <th>Speed_Limi</th>\n",
       "      <th>Traff_Cntr</th>\n",
       "      <th>Weather</th>\n",
       "      <th>Workzone_I</th>\n",
       "      <th>Location</th>\n",
       "    </tr>\n",
       "    <tr>\n",
       "      <th>Crash_Date</th>\n",
       "      <th></th>\n",
       "      <th></th>\n",
       "      <th></th>\n",
       "      <th></th>\n",
       "      <th></th>\n",
       "      <th></th>\n",
       "      <th></th>\n",
       "      <th></th>\n",
       "      <th></th>\n",
       "      <th></th>\n",
       "      <th></th>\n",
       "      <th></th>\n",
       "      <th></th>\n",
       "      <th></th>\n",
       "      <th></th>\n",
       "      <th></th>\n",
       "      <th></th>\n",
       "      <th></th>\n",
       "      <th></th>\n",
       "      <th></th>\n",
       "      <th></th>\n",
       "      <th></th>\n",
       "      <th></th>\n",
       "      <th></th>\n",
       "      <th></th>\n",
       "      <th></th>\n",
       "      <th></th>\n",
       "      <th></th>\n",
       "      <th></th>\n",
       "      <th></th>\n",
       "      <th></th>\n",
       "      <th></th>\n",
       "      <th></th>\n",
       "      <th></th>\n",
       "      <th></th>\n",
       "      <th></th>\n",
       "      <th></th>\n",
       "      <th></th>\n",
       "      <th></th>\n",
       "      <th></th>\n",
       "      <th></th>\n",
       "      <th></th>\n",
       "      <th></th>\n",
       "      <th></th>\n",
       "      <th></th>\n",
       "      <th></th>\n",
       "      <th></th>\n",
       "      <th></th>\n",
       "      <th></th>\n",
       "      <th></th>\n",
       "      <th></th>\n",
       "      <th></th>\n",
       "      <th></th>\n",
       "    </tr>\n",
       "  </thead>\n",
       "  <tbody>\n",
       "    <tr>\n",
       "      <th>2012-12-23</th>\n",
       "      <td>987</td>\n",
       "      <td>988</td>\n",
       "      <td>No</td>\n",
       "      <td>25-29</td>\n",
       "      <td>26</td>\n",
       "      <td>No</td>\n",
       "      <td>With Traffic</td>\n",
       "      <td>B: Evident Injury</td>\n",
       "      <td>Travel Lane</td>\n",
       "      <td>White</td>\n",
       "      <td>Female</td>\n",
       "      <td>Durham</td>\n",
       "      <td>Durham</td>\n",
       "      <td>No</td>\n",
       "      <td>1/1/07</td>\n",
       "      <td>Bicyclist Failed to Yield - Signalized Interse...</td>\n",
       "      <td>15</td>\n",
       "      <td>Intersection</td>\n",
       "      <td>1/12/01</td>\n",
       "      <td>0001-01-01T10:10:58-04:56</td>\n",
       "      <td>Bicyclist Ride Through - Signalized Intersection</td>\n",
       "      <td>NaN</td>\n",
       "      <td>2012</td>\n",
       "      <td>B: Evident Injury</td>\n",
       "      <td>Residential</td>\n",
       "      <td>25-29</td>\n",
       "      <td>26</td>\n",
       "      <td>No</td>\n",
       "      <td>31-35 mph</td>\n",
       "      <td>O: No Injury</td>\n",
       "      <td>Black</td>\n",
       "      <td>Female</td>\n",
       "      <td>Passenger Car</td>\n",
       "      <td>No</td>\n",
       "      <td>No</td>\n",
       "      <td>Daylight</td>\n",
       "      <td>Urban (&gt;70% Developed)</td>\n",
       "      <td>3 lanes</td>\n",
       "      <td>2</td>\n",
       "      <td>Straight - Level</td>\n",
       "      <td>Local Street</td>\n",
       "      <td>Dry</td>\n",
       "      <td>Two-Way, Not Divided</td>\n",
       "      <td>None</td>\n",
       "      <td>No Special Feature</td>\n",
       "      <td>Coarse Asphalt</td>\n",
       "      <td>Piedmont</td>\n",
       "      <td>Urban</td>\n",
       "      <td>30 - 35  MPH</td>\n",
       "      <td>Stop And Go Signal</td>\n",
       "      <td>Clear</td>\n",
       "      <td>No</td>\n",
       "      <td>36.00026, -78.9077</td>\n",
       "    </tr>\n",
       "    <tr>\n",
       "      <th>2012-10-12</th>\n",
       "      <td>960</td>\n",
       "      <td>961</td>\n",
       "      <td>Yes</td>\n",
       "      <td>15-Nov</td>\n",
       "      <td>12</td>\n",
       "      <td>No</td>\n",
       "      <td>Facing Traffic</td>\n",
       "      <td>K: Killed</td>\n",
       "      <td>Travel Lane</td>\n",
       "      <td>Black</td>\n",
       "      <td>Female</td>\n",
       "      <td>Durham</td>\n",
       "      <td>Durham</td>\n",
       "      <td>No</td>\n",
       "      <td>NaN</td>\n",
       "      <td>Loss of Control / Turning Error</td>\n",
       "      <td>15</td>\n",
       "      <td>Intersection</td>\n",
       "      <td>1/12/01</td>\n",
       "      <td>0001-01-01T10:12:58-04:56</td>\n",
       "      <td>Bicyclist Turning Error - Left Turn</td>\n",
       "      <td>NaN</td>\n",
       "      <td>2012</td>\n",
       "      <td>K: Killed</td>\n",
       "      <td>Residential</td>\n",
       "      <td>50-59</td>\n",
       "      <td>59</td>\n",
       "      <td>No</td>\n",
       "      <td>41-45 mph</td>\n",
       "      <td>O: No Injury</td>\n",
       "      <td>White</td>\n",
       "      <td>Male</td>\n",
       "      <td>Pickup</td>\n",
       "      <td>No</td>\n",
       "      <td>No</td>\n",
       "      <td>Daylight</td>\n",
       "      <td>Urban (&gt;70% Developed)</td>\n",
       "      <td>3 lanes</td>\n",
       "      <td>2</td>\n",
       "      <td>Straight - Hillcrest</td>\n",
       "      <td>NC Route</td>\n",
       "      <td>Dry</td>\n",
       "      <td>Two-Way, Not Divided</td>\n",
       "      <td>None</td>\n",
       "      <td>Four-Way Intersection</td>\n",
       "      <td>Smooth Asphalt</td>\n",
       "      <td>Piedmont</td>\n",
       "      <td>Urban</td>\n",
       "      <td>40 - 45  MPH</td>\n",
       "      <td>Stop Sign</td>\n",
       "      <td>Cloudy</td>\n",
       "      <td>No</td>\n",
       "      <td>35.91434, -78.961</td>\n",
       "    </tr>\n",
       "    <tr>\n",
       "      <th>2012-02-12</th>\n",
       "      <td>941</td>\n",
       "      <td>942</td>\n",
       "      <td>Yes</td>\n",
       "      <td>30-39</td>\n",
       "      <td>36</td>\n",
       "      <td>No</td>\n",
       "      <td>With Traffic</td>\n",
       "      <td>C: Possible Injury</td>\n",
       "      <td>Bike Lane / Paved Shoulder</td>\n",
       "      <td>White</td>\n",
       "      <td>Male</td>\n",
       "      <td>None - Rural Crash</td>\n",
       "      <td>Durham</td>\n",
       "      <td>No</td>\n",
       "      <td>1/1/07</td>\n",
       "      <td>Loss of Control / Turning Error</td>\n",
       "      <td>16</td>\n",
       "      <td>Non-Intersection</td>\n",
       "      <td>1/12/01</td>\n",
       "      <td>0001-01-01T11:25:58-04:56</td>\n",
       "      <td>Motorist Lost Control - Oversteering, Improper...</td>\n",
       "      <td>NaN</td>\n",
       "      <td>2012</td>\n",
       "      <td>C: Possible Injury</td>\n",
       "      <td>Farms, Woods, Pastures</td>\n",
       "      <td>70</td>\n",
       "      <td>70</td>\n",
       "      <td>No</td>\n",
       "      <td>41-45 mph</td>\n",
       "      <td>O: No Injury</td>\n",
       "      <td>White</td>\n",
       "      <td>Male</td>\n",
       "      <td>Pickup</td>\n",
       "      <td>No</td>\n",
       "      <td>No</td>\n",
       "      <td>Daylight</td>\n",
       "      <td>Rural (&lt;30% Developed)</td>\n",
       "      <td>2 lanes</td>\n",
       "      <td>2</td>\n",
       "      <td>Straight - Grade</td>\n",
       "      <td>NC Route</td>\n",
       "      <td>Dry</td>\n",
       "      <td>Two-Way, Not Divided</td>\n",
       "      <td>None</td>\n",
       "      <td>No Special Feature</td>\n",
       "      <td>Smooth Asphalt</td>\n",
       "      <td>Piedmont</td>\n",
       "      <td>Rural</td>\n",
       "      <td>50 - 55  MPH</td>\n",
       "      <td>Double Yellow Line, No Passing Zone</td>\n",
       "      <td>Clear</td>\n",
       "      <td>No</td>\n",
       "      <td>35.87333, -78.9484</td>\n",
       "    </tr>\n",
       "    <tr>\n",
       "      <th>2012-11-27</th>\n",
       "      <td>914</td>\n",
       "      <td>915</td>\n",
       "      <td>Yes</td>\n",
       "      <td>20-24</td>\n",
       "      <td>23</td>\n",
       "      <td>No</td>\n",
       "      <td>With Traffic</td>\n",
       "      <td>B: Evident Injury</td>\n",
       "      <td>Travel Lane</td>\n",
       "      <td>Black</td>\n",
       "      <td>Male</td>\n",
       "      <td>Durham</td>\n",
       "      <td>Durham</td>\n",
       "      <td>No</td>\n",
       "      <td>1/1/02</td>\n",
       "      <td>Motorist Failed to Yield - Sign-Controlled Int...</td>\n",
       "      <td>22</td>\n",
       "      <td>Intersection</td>\n",
       "      <td>1/11/01</td>\n",
       "      <td>0001-01-01T17:42:58-04:56</td>\n",
       "      <td>Motorist Drive Out - Sign-Controlled Intersection</td>\n",
       "      <td>NaN</td>\n",
       "      <td>2012</td>\n",
       "      <td>B: Evident Injury</td>\n",
       "      <td>Residential</td>\n",
       "      <td>40-49</td>\n",
       "      <td>48</td>\n",
       "      <td>No</td>\n",
       "      <td>0-5 mph</td>\n",
       "      <td>O: No Injury</td>\n",
       "      <td>White</td>\n",
       "      <td>Male</td>\n",
       "      <td>Passenger Car</td>\n",
       "      <td>No</td>\n",
       "      <td>No</td>\n",
       "      <td>Dark - Roadway Not Lighted</td>\n",
       "      <td>Urban (&gt;70% Developed)</td>\n",
       "      <td>2 lanes</td>\n",
       "      <td>2</td>\n",
       "      <td>Straight - Level</td>\n",
       "      <td>Local Street</td>\n",
       "      <td>Wet</td>\n",
       "      <td>Two-Way, Not Divided</td>\n",
       "      <td>None</td>\n",
       "      <td>No Special Feature</td>\n",
       "      <td>Smooth Asphalt</td>\n",
       "      <td>Piedmont</td>\n",
       "      <td>Urban</td>\n",
       "      <td>30 - 35  MPH</td>\n",
       "      <td>Stop Sign</td>\n",
       "      <td>Clear</td>\n",
       "      <td>No</td>\n",
       "      <td>35.89034, -78.9433</td>\n",
       "    </tr>\n",
       "    <tr>\n",
       "      <th>2012-11-21</th>\n",
       "      <td>902</td>\n",
       "      <td>903</td>\n",
       "      <td>Yes</td>\n",
       "      <td>40-49</td>\n",
       "      <td>46</td>\n",
       "      <td>No</td>\n",
       "      <td>Facing Traffic</td>\n",
       "      <td>C: Possible Injury</td>\n",
       "      <td>Travel Lane</td>\n",
       "      <td>Black</td>\n",
       "      <td>Male</td>\n",
       "      <td>Durham</td>\n",
       "      <td>Durham</td>\n",
       "      <td>No</td>\n",
       "      <td>1/1/03</td>\n",
       "      <td>Crossing Paths - Other Circumstances</td>\n",
       "      <td>0</td>\n",
       "      <td>Intersection</td>\n",
       "      <td>1/11/01</td>\n",
       "      <td>0000-12-31T19:48:58-04:56</td>\n",
       "      <td>Signalized Intersection - Other /</td>\n",
       "      <td>NaN</td>\n",
       "      <td>2012</td>\n",
       "      <td>C: Possible Injury</td>\n",
       "      <td>Residential</td>\n",
       "      <td>40-49</td>\n",
       "      <td>48</td>\n",
       "      <td>No</td>\n",
       "      <td>6-10 mph</td>\n",
       "      <td>O: No Injury</td>\n",
       "      <td>Black</td>\n",
       "      <td>Female</td>\n",
       "      <td>Passenger Car</td>\n",
       "      <td>No</td>\n",
       "      <td>No</td>\n",
       "      <td>Daylight</td>\n",
       "      <td>Urban (&gt;70% Developed)</td>\n",
       "      <td>3 lanes</td>\n",
       "      <td>2</td>\n",
       "      <td>Straight - Level</td>\n",
       "      <td>Local Street</td>\n",
       "      <td>Dry</td>\n",
       "      <td>Two-Way, Not Divided</td>\n",
       "      <td>None</td>\n",
       "      <td>No Special Feature</td>\n",
       "      <td>Coarse Asphalt</td>\n",
       "      <td>Piedmont</td>\n",
       "      <td>Urban</td>\n",
       "      <td>30 - 35  MPH</td>\n",
       "      <td>Stop And Go Signal</td>\n",
       "      <td>Clear</td>\n",
       "      <td>No</td>\n",
       "      <td>36.01774, -78.9363</td>\n",
       "    </tr>\n",
       "  </tbody>\n",
       "</table>\n",
       "</div>"
      ],
      "text/plain": [
       "            FID  OBJECTID AmbulanceR BikeAge_Gr  Bike_Age Bike_Alc_D        Bike_Dir          Bike_Injur                    Bike_Pos Bike_Race Bike_Sex                City  County CrashAlcoh CrashDay                                          Crash_Grp  Crash_Hour         Crash_Loc Crash_Mont                 Crash_Time                                         Crash_Type  Crash_Ty_1  Crash_Year          Crsh_Sevri              Developmen DrvrAge_Gr  Drvr_Age Drvr_Alc_D Drvr_EstSp    Drvr_Injur Drvr_Race Drvr_Sex     Drvr_VehTy ExcsSpdInd Hit_Run                  Light_Cond                Locality Num_Lanes  Num_Units            Rd_Charact      Rd_Class Rd_Conditi             Rd_Config Rd_Defects             Rd_Feature      Rd_Surface    Region Rural_Urba    Speed_Limi                           Traff_Cntr Weather Workzone_I            Location\n",
       "Crash_Date                                                                                                                                                                                                                                                                                                                                                                                                                                                                                                                                                                                                                                                                                                                                                                                                                                                                        \n",
       "2012-12-23  987       988         No      25-29        26         No    With Traffic   B: Evident Injury                 Travel Lane     White   Female              Durham  Durham         No   1/1/07  Bicyclist Failed to Yield - Signalized Interse...          15      Intersection    1/12/01  0001-01-01T10:10:58-04:56   Bicyclist Ride Through - Signalized Intersection         NaN        2012   B: Evident Injury             Residential      25-29        26         No  31-35 mph  O: No Injury     Black   Female  Passenger Car         No      No                    Daylight  Urban (>70% Developed)   3 lanes          2      Straight - Level  Local Street        Dry  Two-Way, Not Divided       None     No Special Feature  Coarse Asphalt  Piedmont      Urban  30 - 35  MPH                   Stop And Go Signal   Clear         No  36.00026, -78.9077\n",
       "2012-10-12  960       961        Yes     15-Nov        12         No  Facing Traffic           K: Killed                 Travel Lane     Black   Female              Durham  Durham         No      NaN                    Loss of Control / Turning Error          15      Intersection    1/12/01  0001-01-01T10:12:58-04:56                Bicyclist Turning Error - Left Turn         NaN        2012           K: Killed             Residential      50-59        59         No  41-45 mph  O: No Injury     White     Male         Pickup         No      No                    Daylight  Urban (>70% Developed)   3 lanes          2  Straight - Hillcrest      NC Route        Dry  Two-Way, Not Divided       None  Four-Way Intersection  Smooth Asphalt  Piedmont      Urban  40 - 45  MPH                            Stop Sign  Cloudy         No   35.91434, -78.961\n",
       "2012-02-12  941       942        Yes      30-39        36         No    With Traffic  C: Possible Injury  Bike Lane / Paved Shoulder     White     Male  None - Rural Crash  Durham         No   1/1/07                    Loss of Control / Turning Error          16  Non-Intersection    1/12/01  0001-01-01T11:25:58-04:56  Motorist Lost Control - Oversteering, Improper...         NaN        2012  C: Possible Injury  Farms, Woods, Pastures         70        70         No  41-45 mph  O: No Injury     White     Male         Pickup         No      No                    Daylight  Rural (<30% Developed)   2 lanes          2      Straight - Grade      NC Route        Dry  Two-Way, Not Divided       None     No Special Feature  Smooth Asphalt  Piedmont      Rural  50 - 55  MPH  Double Yellow Line, No Passing Zone   Clear         No  35.87333, -78.9484\n",
       "2012-11-27  914       915        Yes      20-24        23         No    With Traffic   B: Evident Injury                 Travel Lane     Black     Male              Durham  Durham         No   1/1/02  Motorist Failed to Yield - Sign-Controlled Int...          22      Intersection    1/11/01  0001-01-01T17:42:58-04:56  Motorist Drive Out - Sign-Controlled Intersection         NaN        2012   B: Evident Injury             Residential      40-49        48         No    0-5 mph  O: No Injury     White     Male  Passenger Car         No      No  Dark - Roadway Not Lighted  Urban (>70% Developed)   2 lanes          2      Straight - Level  Local Street        Wet  Two-Way, Not Divided       None     No Special Feature  Smooth Asphalt  Piedmont      Urban  30 - 35  MPH                            Stop Sign   Clear         No  35.89034, -78.9433\n",
       "2012-11-21  902       903        Yes      40-49        46         No  Facing Traffic  C: Possible Injury                 Travel Lane     Black     Male              Durham  Durham         No   1/1/03               Crossing Paths - Other Circumstances           0      Intersection    1/11/01  0000-12-31T19:48:58-04:56                  Signalized Intersection - Other /         NaN        2012  C: Possible Injury             Residential      40-49        48         No   6-10 mph  O: No Injury     Black   Female  Passenger Car         No      No                    Daylight  Urban (>70% Developed)   3 lanes          2      Straight - Level  Local Street        Dry  Two-Way, Not Divided       None     No Special Feature  Coarse Asphalt  Piedmont      Urban  30 - 35  MPH                   Stop And Go Signal   Clear         No  36.01774, -78.9363"
      ]
     },
     "execution_count": 39,
     "metadata": {},
     "output_type": "execute_result"
    }
   ],
   "source": [
    "crash = pd.read_csv('../data/crash.csv', sep=';', encoding='latin1', parse_dates=['Crash_Date'], dayfirst=True, index_col='Crash_Date')\n",
    "crash[:5]"
   ]
  },
  {
   "cell_type": "markdown",
   "metadata": {},
   "source": [
    "Next up, we're just going to look only at crashes in Durham, NC, where I live. \n",
    "\n",
    "So we're going to create a dataframe with just Durham County crashes in it."
   ]
  },
  {
   "cell_type": "code",
   "execution_count": 86,
   "metadata": {
    "collapsed": false
   },
   "outputs": [
    {
     "data": {
      "text/html": [
       "<div>\n",
       "<table border=\"1\" class=\"dataframe\">\n",
       "  <thead>\n",
       "    <tr style=\"text-align: right;\">\n",
       "      <th></th>\n",
       "      <th>County</th>\n",
       "    </tr>\n",
       "    <tr>\n",
       "      <th>Crash_Date</th>\n",
       "      <th></th>\n",
       "    </tr>\n",
       "  </thead>\n",
       "  <tbody>\n",
       "    <tr>\n",
       "      <th>2012-12-23</th>\n",
       "      <td>Durham</td>\n",
       "    </tr>\n",
       "    <tr>\n",
       "      <th>2012-10-12</th>\n",
       "      <td>Durham</td>\n",
       "    </tr>\n",
       "    <tr>\n",
       "      <th>2012-02-12</th>\n",
       "      <td>Durham</td>\n",
       "    </tr>\n",
       "  </tbody>\n",
       "</table>\n",
       "</div>"
      ],
      "text/plain": [
       "            County\n",
       "Crash_Date        \n",
       "2012-12-23  Durham\n",
       "2012-10-12  Durham\n",
       "2012-02-12  Durham"
      ]
     },
     "execution_count": 86,
     "metadata": {},
     "output_type": "execute_result"
    }
   ],
   "source": [
    "durham_crash = crash[crash['County'] == \"Durham\"].copy()\n",
    "durham_crash = durham_crash[['County']].copy()\n",
    "durham_crash[:3]\n",
    "\n",
    "#crash_hour = crash[['Crash_Hour']].copy()\n",
    "#crash_hour[:3]\n",
    "\n",
    "#crash_durham['Bike_Injur'][:5]\n",
    "\n",
    "#durham_crash[['Bike_Injur', 'Speed_Limi', 'Drvr_Injur']][:5]\n",
    "\n",
    "#durham_crash_injur = durham_crash['Bike_Injur'].value_counts(), ['Drvr_Injur'].value_counts()\n",
    "#durham_bike_injur = durham_crash['Bike_Injur'].value_counts()\n",
    "#durham_drv_injur = durham_crash['Drvr_Injur'].value_counts()\n",
    "#durham_drv_injur.plot(kind='bar')\n",
    "#durham_crash.plot(durham_crash['Bike_Injur', 'Drvr_Injur'])\n",
    "#durham_crash_injur.plot(kind='bar')\n",
    "#(durham_drv_injur / durham_bike_injur.astype(float)).plot(kind='bar')"
   ]
  },
  {
   "cell_type": "markdown",
   "metadata": {},
   "source": [
    "Next, we need to add a 'weekday' column. Firstly, we can get the weekday from the index. We haven't talked about indexes yet, but the index is what's on the left on the above dataframe, under 'Date'. It's basically all the days of the year."
   ]
  },
  {
   "cell_type": "code",
   "execution_count": 79,
   "metadata": {
    "collapsed": false
   },
   "outputs": [
    {
     "data": {
      "text/plain": [
       "DatetimeIndex(['2012-12-23', '2012-10-12', '2012-02-12', '2012-11-27', '2012-11-21', '2012-11-18', '2012-10-29', '2012-10-23', '2012-10-20', '2012-10-18', \n",
       "               ...\n",
       "               '2007-02-04', '2007-03-30', '2007-03-30', '2007-03-27', '2007-03-24', '2007-03-23', '2007-03-14', '2007-10-03', '2007-06-01', '2007-02-01'], dtype='datetime64[ns]', name=u'Crash_Date', length=253, freq=None, tz=None)"
      ]
     },
     "execution_count": 79,
     "metadata": {},
     "output_type": "execute_result"
    }
   ],
   "source": [
    "durham_crash.index"
   ]
  },
  {
   "cell_type": "markdown",
   "metadata": {},
   "source": [
    "You can see that actually some of the days are missing -- only 310 days of the year are actually there. Who knows why.\n",
    "\n",
    "Pandas has a bunch of really great time series functionality, so if we wanted to get the day of the month for each row, we could do it like this:"
   ]
  },
  {
   "cell_type": "code",
   "execution_count": 80,
   "metadata": {
    "collapsed": false
   },
   "outputs": [
    {
     "data": {
      "text/plain": [
       "array([23, 12, 12, 27, 21, 18, 29, 23, 20, 18, 10, 30, 25, 23, 22, 19, 19,\n",
       "        9,  9,  9,  9, 29, 24, 19, 16, 15,  8,  8, 25, 15, 15, 30, 28,  6,\n",
       "       20, 20, 16, 16, 13, 13,  4, 29, 28, 23, 20, 18, 26,  2,  2, 19,  1,\n",
       "       11, 27, 10, 10, 14,  9, 29, 28, 26, 26, 22, 17,  8, 28, 19,  7, 30,\n",
       "       27, 15, 15,  6,  6, 26, 24, 22,  5,  5,  5,  5, 29, 29, 27, 14,  4,\n",
       "       24, 24, 24, 15, 15,  2,  1, 25, 29, 13, 22, 10, 25, 20, 18, 13,  9,\n",
       "       27, 20, 17, 13,  8, 28, 23, 22,  7,  7,  7,  7, 29, 28, 23, 21, 20,\n",
       "        6,  6, 25, 15,  5, 30, 18,  4, 21, 17, 17, 28, 25, 18, 12, 12, 12,\n",
       "       21, 11, 30, 10, 10, 28, 23,  9,  9,  9,  9, 30, 26,  8,  8,  8, 27,\n",
       "       22, 19,  7,  7, 23, 15, 15,  6, 25, 22, 13,  5,  4,  3, 13, 24, 23,\n",
       "       22,  1, 14, 12, 12, 14, 11, 11, 11, 11, 29, 17, 30, 24, 15,  9, 30,\n",
       "       17,  8,  8, 18, 15, 14,  7, 29, 24, 18,  6,  6, 30, 14,  5,  5, 24,\n",
       "        4,  4, 18, 19,  2,  2, 27, 31, 30, 10, 10, 10, 10, 10, 26, 20, 17,\n",
       "        9, 29, 25, 20, 17, 16, 13,  8,  8, 27, 23,  7,  7,  7, 27, 29, 29,\n",
       "       23, 17, 14,  4,  4,  4, 30, 30, 27, 24, 23, 14,  3,  1,  1], dtype=int32)"
      ]
     },
     "execution_count": 80,
     "metadata": {},
     "output_type": "execute_result"
    }
   ],
   "source": [
    "durham_crash.index.day"
   ]
  },
  {
   "cell_type": "markdown",
   "metadata": {},
   "source": [
    "We actually want the weekday, though:"
   ]
  },
  {
   "cell_type": "code",
   "execution_count": 81,
   "metadata": {
    "collapsed": false
   },
   "outputs": [
    {
     "data": {
      "text/plain": [
       "array([6, 4, 6, 1, 2, 6, 0, 1, 5, 3, 5, 6, 1, 6, 5, 2, 2, 6, 1, 6, 0, 2, 4,\n",
       "       6, 3, 2, 1, 3, 2, 6, 6, 5, 3, 3, 6, 4, 0, 0, 4, 4, 5, 3, 2, 4, 1, 6,\n",
       "       6, 3, 3, 3, 0, 1, 3, 6, 1, 2, 5, 0, 6, 4, 4, 0, 2, 1, 3, 1, 5, 3, 0,\n",
       "       2, 2, 3, 6, 3, 1, 6, 2, 2, 4, 3, 4, 4, 2, 3, 0, 3, 3, 3, 1, 1, 2, 3,\n",
       "       5, 0, 5, 4, 1, 5, 0, 5, 0, 5, 4, 4, 1, 4, 0, 2, 4, 3, 2, 6, 6, 3, 1,\n",
       "       0, 2, 0, 6, 4, 1, 1, 5, 1, 4, 6, 3, 6, 2, 2, 6, 0, 0, 0, 6, 6, 5, 3,\n",
       "       4, 0, 6, 0, 2, 3, 3, 0, 4, 6, 2, 5, 2, 6, 0, 2, 6, 1, 5, 1, 0, 0, 1,\n",
       "       0, 4, 2, 0, 5, 1, 4, 5, 4, 3, 1, 6, 4, 1, 4, 2, 6, 1, 0, 2, 4, 1, 2,\n",
       "       0, 2, 5, 6, 5, 1, 4, 1, 0, 3, 6, 1, 2, 3, 3, 4, 2, 5, 5, 3, 1, 1, 1,\n",
       "       1, 0, 4, 1, 2, 1, 4, 1, 5, 5, 5, 2, 3, 0, 3, 2, 5, 0, 4, 3, 0, 6, 0,\n",
       "       4, 0, 4, 4, 2, 2, 1, 1, 2, 3, 5, 1, 6, 6, 4, 4, 1, 5, 4, 2, 2, 4, 3], dtype=int32)"
      ]
     },
     "execution_count": 81,
     "metadata": {},
     "output_type": "execute_result"
    }
   ],
   "source": [
    "durham_crash.index.weekday"
   ]
  },
  {
   "cell_type": "markdown",
   "metadata": {},
   "source": [
    "These are the days of the week, where 0 is Monday. I found out that 0 was Monday by checking on a calendar.\n",
    "\n",
    "Now that we know how to *get* the weekday, we can add it as a column in our dataframe like this:"
   ]
  },
  {
   "cell_type": "code",
   "execution_count": 82,
   "metadata": {
    "collapsed": false
   },
   "outputs": [
    {
     "data": {
      "text/html": [
       "<div>\n",
       "<table border=\"1\" class=\"dataframe\">\n",
       "  <thead>\n",
       "    <tr style=\"text-align: right;\">\n",
       "      <th></th>\n",
       "      <th>County</th>\n",
       "      <th>weekday</th>\n",
       "    </tr>\n",
       "    <tr>\n",
       "      <th>Crash_Date</th>\n",
       "      <th></th>\n",
       "      <th></th>\n",
       "    </tr>\n",
       "  </thead>\n",
       "  <tbody>\n",
       "    <tr>\n",
       "      <th>2012-12-23</th>\n",
       "      <td>Durham</td>\n",
       "      <td>6</td>\n",
       "    </tr>\n",
       "    <tr>\n",
       "      <th>2012-10-12</th>\n",
       "      <td>Durham</td>\n",
       "      <td>4</td>\n",
       "    </tr>\n",
       "    <tr>\n",
       "      <th>2012-02-12</th>\n",
       "      <td>Durham</td>\n",
       "      <td>6</td>\n",
       "    </tr>\n",
       "    <tr>\n",
       "      <th>2012-11-27</th>\n",
       "      <td>Durham</td>\n",
       "      <td>1</td>\n",
       "    </tr>\n",
       "    <tr>\n",
       "      <th>2012-11-21</th>\n",
       "      <td>Durham</td>\n",
       "      <td>2</td>\n",
       "    </tr>\n",
       "    <tr>\n",
       "      <th>2012-11-18</th>\n",
       "      <td>Durham</td>\n",
       "      <td>6</td>\n",
       "    </tr>\n",
       "    <tr>\n",
       "      <th>2012-10-29</th>\n",
       "      <td>Durham</td>\n",
       "      <td>0</td>\n",
       "    </tr>\n",
       "  </tbody>\n",
       "</table>\n",
       "</div>"
      ],
      "text/plain": [
       "            County  weekday\n",
       "Crash_Date                 \n",
       "2012-12-23  Durham        6\n",
       "2012-10-12  Durham        4\n",
       "2012-02-12  Durham        6\n",
       "2012-11-27  Durham        1\n",
       "2012-11-21  Durham        2\n",
       "2012-11-18  Durham        6\n",
       "2012-10-29  Durham        0"
      ]
     },
     "execution_count": 82,
     "metadata": {},
     "output_type": "execute_result"
    }
   ],
   "source": [
    "durham_crash.loc[:,'weekday'] = durham_crash.index.weekday\n",
    "durham_crash[:7]"
   ]
  },
  {
   "cell_type": "markdown",
   "metadata": {},
   "source": [
    "# 4.2 Adding up the cyclists by weekday"
   ]
  },
  {
   "cell_type": "markdown",
   "metadata": {},
   "source": [
    "This turns out to be really easy!\n",
    "\n",
    "Dataframes have a `.groupby()` method that is similar to SQL groupby, if you're familiar with that. I'm not going to explain more about it right now -- if you want to to know more, [the documentation](http://pandas.pydata.org/pandas-docs/stable/groupby.html) is really good.\n",
    "\n",
    "In this case, `berri_bikes.groupby('weekday').aggregate(sum)` means \"Group the rows by weekday and then add up all the values with the same weekday\"."
   ]
  },
  {
   "cell_type": "code",
   "execution_count": 83,
   "metadata": {
    "collapsed": false
   },
   "outputs": [
    {
     "data": {
      "text/html": [
       "<div>\n",
       "<table border=\"1\" class=\"dataframe\">\n",
       "  <thead>\n",
       "    <tr style=\"text-align: right;\">\n",
       "      <th></th>\n",
       "      <th>County</th>\n",
       "    </tr>\n",
       "    <tr>\n",
       "      <th>weekday</th>\n",
       "      <th></th>\n",
       "    </tr>\n",
       "  </thead>\n",
       "  <tbody>\n",
       "    <tr>\n",
       "      <th>0</th>\n",
       "      <td>35</td>\n",
       "    </tr>\n",
       "    <tr>\n",
       "      <th>1</th>\n",
       "      <td>41</td>\n",
       "    </tr>\n",
       "    <tr>\n",
       "      <th>2</th>\n",
       "      <td>39</td>\n",
       "    </tr>\n",
       "    <tr>\n",
       "      <th>3</th>\n",
       "      <td>36</td>\n",
       "    </tr>\n",
       "    <tr>\n",
       "      <th>4</th>\n",
       "      <td>38</td>\n",
       "    </tr>\n",
       "    <tr>\n",
       "      <th>5</th>\n",
       "      <td>28</td>\n",
       "    </tr>\n",
       "    <tr>\n",
       "      <th>6</th>\n",
       "      <td>36</td>\n",
       "    </tr>\n",
       "  </tbody>\n",
       "</table>\n",
       "</div>"
      ],
      "text/plain": [
       "         County\n",
       "weekday        \n",
       "0            35\n",
       "1            41\n",
       "2            39\n",
       "3            36\n",
       "4            38\n",
       "5            28\n",
       "6            36"
      ]
     },
     "execution_count": 83,
     "metadata": {},
     "output_type": "execute_result"
    }
   ],
   "source": [
    "weekday_counts = durham_crash.groupby('weekday').aggregate('count')\n",
    "weekday_counts"
   ]
  },
  {
   "cell_type": "markdown",
   "metadata": {},
   "source": [
    "It's hard to remember what 0, 1, 2, 3, 4, 5, 6 mean, so we can fix it up and graph it:"
   ]
  },
  {
   "cell_type": "code",
   "execution_count": 84,
   "metadata": {
    "collapsed": false
   },
   "outputs": [
    {
     "data": {
      "text/html": [
       "<div>\n",
       "<table border=\"1\" class=\"dataframe\">\n",
       "  <thead>\n",
       "    <tr style=\"text-align: right;\">\n",
       "      <th></th>\n",
       "      <th>County</th>\n",
       "    </tr>\n",
       "  </thead>\n",
       "  <tbody>\n",
       "    <tr>\n",
       "      <th>Monday</th>\n",
       "      <td>35</td>\n",
       "    </tr>\n",
       "    <tr>\n",
       "      <th>Tuesday</th>\n",
       "      <td>41</td>\n",
       "    </tr>\n",
       "    <tr>\n",
       "      <th>Wednesday</th>\n",
       "      <td>39</td>\n",
       "    </tr>\n",
       "    <tr>\n",
       "      <th>Thursday</th>\n",
       "      <td>36</td>\n",
       "    </tr>\n",
       "    <tr>\n",
       "      <th>Friday</th>\n",
       "      <td>38</td>\n",
       "    </tr>\n",
       "    <tr>\n",
       "      <th>Saturday</th>\n",
       "      <td>28</td>\n",
       "    </tr>\n",
       "    <tr>\n",
       "      <th>Sunday</th>\n",
       "      <td>36</td>\n",
       "    </tr>\n",
       "  </tbody>\n",
       "</table>\n",
       "</div>"
      ],
      "text/plain": [
       "           County\n",
       "Monday         35\n",
       "Tuesday        41\n",
       "Wednesday      39\n",
       "Thursday       36\n",
       "Friday         38\n",
       "Saturday       28\n",
       "Sunday         36"
      ]
     },
     "execution_count": 84,
     "metadata": {},
     "output_type": "execute_result"
    }
   ],
   "source": [
    "weekday_counts.index = ['Monday', 'Tuesday', 'Wednesday', 'Thursday', 'Friday', 'Saturday', 'Sunday']\n",
    "weekday_counts"
   ]
  },
  {
   "cell_type": "code",
   "execution_count": 85,
   "metadata": {
    "collapsed": false,
    "scrolled": false
   },
   "outputs": [
    {
     "data": {
      "text/plain": [
       "<matplotlib.axes._subplots.AxesSubplot at 0x106952910>"
      ]
     },
     "execution_count": 85,
     "metadata": {},
     "output_type": "execute_result"
    },
    {
     "data": {
      "image/png": "[encoded data removed]",
      "text/plain": [
       "<matplotlib.figure.Figure at 0x106452a90>"
      ]
     },
     "metadata": {},
     "output_type": "display_data"
    }
   ],
   "source": [
    "weekday_counts.plot(kind='bar')"
   ]
  },
  {
   "cell_type": "markdown",
   "metadata": {},
   "source": [
    "So it looks like Durham cyclists get hit fairly evenly on most days of the week."
   ]
  },
  {
   "cell_type": "markdown",
   "metadata": {},
   "source": [
    "# 4.3 Putting it together"
   ]
  },
  {
   "cell_type": "markdown",
   "metadata": {},
   "source": [
    "Let's put all that together, to prove how easy it is. 6 lines of magical pandas!\n",
    "\n",
    "If you want to play around, try changing `sum` to `max`, `numpy.median`, or any other function you like."
   ]
  },
  {
   "cell_type": "code",
   "execution_count": 24,
   "metadata": {
    "collapsed": false
   },
   "outputs": [
    {
     "data": {
      "text/plain": [
       "<matplotlib.axes._subplots.AxesSubplot at 0x10fd2c290>"
      ]
     },
     "execution_count": 24,
     "metadata": {},
     "output_type": "execute_result"
    },
    {
     "data": {
      "image/png": "[encoded data removed]",
      "text/plain": [
       "<matplotlib.figure.Figure at 0x10fd1dd90>"
      ]
     },
     "metadata": {},
     "output_type": "display_data"
    }
   ],
   "source": [
    "bikes = pd.read_csv('../data/bikes.csv', \n",
    "                    sep=';', encoding='latin1', \n",
    "                    parse_dates=['Date'], dayfirst=True, \n",
    "                    index_col='Date')\n",
    "# Add the weekday column\n",
    "berri_bikes = bikes[['Berri 1']].copy()\n",
    "berri_bikes.loc[:,'weekday'] = berri_bikes.index.weekday\n",
    "\n",
    "# Add up the number of cyclists by weekday, and plot!\n",
    "weekday_counts = berri_bikes.groupby('weekday').aggregate(sum)\n",
    "weekday_counts.index = ['Monday', 'Tuesday', 'Wednesday', 'Thursday', 'Friday', 'Saturday', 'Sunday']\n",
    "weekday_counts.plot(kind='bar')"
   ]
  },
  {
   "cell_type": "code",
   "execution_count": null,
   "metadata": {
    "collapsed": true
   },
   "outputs": [],
   "source": []
  }
 ],
 "metadata": {
  "kernelspec": {
   "display_name": "Python 2",
   "language": "python",
   "name": "python2"
  },
  "language_info": {
   "codemirror_mode": {
    "name": "ipython",
    "version": 2
   },
   "file_extension": ".py",
   "mimetype": "text/x-python",
   "name": "python",
   "nbconvert_exporter": "python",
   "pygments_lexer": "ipython2",
   "version": "2.7.10"
  }
 },
 "nbformat": 4,
 "nbformat_minor": 0
}
